{
 "cells": [
  {
   "cell_type": "markdown",
   "id": "19cd506b",
   "metadata": {},
   "source": [
    "# Spark\n",
    "\n",
    "- What is spark?\n",
    "- When would you use spark?\n",
    "    - Big Data: 4 Vs\n",
    "        - Velocity\n",
    "        - Variety\n",
    "        - Veracity\n",
    "        - Volume\n",
    "    - bigger than memory and bigger than storage\n",
    "        - memory: RAM, faster, smaller, more expensive, volatile\n",
    "        - storage: HDD, SSD, larger, cheaper, non-volatile, slower\n",
    "    - HDFS: a software tool for dealing with distributed data\n",
    "    - When you work somewhere that has spark setup -- Data Bricks\n",
    "    - Other tools: dask, polars, duckdb, sqlite\n",
    "- Spark Architecture\n",
    "    - Scala on JVM\n",
    "    - Client Libraries -- **pyspark** SparkR, etc\n",
    "    - Drivers, Cluster Managers, Executors\n",
    "    - Applications, Jobs, and Tasks\n",
    "- Parallel Work and Spark Dataframes\n",
    "    - faster for larger datam but eith more overhead\n",
    "    - lazy: work isn't \n",
    "    - transformations and actions\n",
    "- Spark Lessons / Topics Covered"
   ]
  }
 ],
 "metadata": {
  "kernelspec": {
   "display_name": "Python 3 (ipykernel)",
   "language": "python",
   "name": "python3"
  },
  "language_info": {
   "codemirror_mode": {
    "name": "ipython",
    "version": 3
   },
   "file_extension": ".py",
   "mimetype": "text/x-python",
   "name": "python",
   "nbconvert_exporter": "python",
   "pygments_lexer": "ipython3",
   "version": "3.9.7"
  }
 },
 "nbformat": 4,
 "nbformat_minor": 5
}
